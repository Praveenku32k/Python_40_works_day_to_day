{
  "nbformat": 4,
  "nbformat_minor": 0,
  "metadata": {
    "colab": {
      "name": "Bulding a Regression MLP Using the Sequential API.ipynb",
      "provenance": [],
      "mount_file_id": "1uxo366KosRTywaP9umzkQAZIkOqKWwmT",
      "authorship_tag": "ABX9TyOBliC+KBXbfATWOzAWKV6J",
      "include_colab_link": true
    },
    "kernelspec": {
      "name": "python3",
      "display_name": "Python 3"
    },
    "language_info": {
      "name": "python"
    },
    "accelerator": "GPU"
  },
  "cells": [
    {
      "cell_type": "markdown",
      "metadata": {
        "id": "view-in-github",
        "colab_type": "text"
      },
      "source": [
        "<a href=\"https://colab.research.google.com/github/Praveenku32k/Python_40_works_day_to_day/blob/main/Bulding_a_Regression_MLP_Using_the_Sequential_API.ipynb\" target=\"_parent\"><img src=\"https://colab.research.google.com/assets/colab-badge.svg\" alt=\"Open In Colab\"/></a>"
      ]
    },
    {
      "cell_type": "code",
      "execution_count": 1,
      "metadata": {
        "id": "UxbyfrKpe5-0"
      },
      "outputs": [],
      "source": [
        "ROOT=\"/content/drive/MyDrive/Artifical_Neural_Network_class_Lab\""
      ]
    },
    {
      "cell_type": "code",
      "source": [
        "import os\n",
        "os.chdir(ROOT)"
      ],
      "metadata": {
        "id": "Y9YxRZWrfweg"
      },
      "execution_count": 2,
      "outputs": []
    },
    {
      "cell_type": "code",
      "source": [
        "os.getcwd()"
      ],
      "metadata": {
        "colab": {
          "base_uri": "https://localhost:8080/",
          "height": 35
        },
        "id": "H7iWrCEbfzaZ",
        "outputId": "c101abe7-36f2-4660-a488-cd40861961fa"
      },
      "execution_count": 3,
      "outputs": [
        {
          "output_type": "execute_result",
          "data": {
            "application/vnd.google.colaboratory.intrinsic+json": {
              "type": "string"
            },
            "text/plain": [
              "'/content/drive/MyDrive/Artifical_Neural_Network_class_Lab'"
            ]
          },
          "metadata": {},
          "execution_count": 3
        }
      ]
    },
    {
      "cell_type": "code",
      "source": [
        "import numpy as np\n",
        "import pandas as pd\n",
        "import matplotlib.pyplot as plt\n",
        "plt.style.use(\"fivethirtyeight\")"
      ],
      "metadata": {
        "id": "rjyeqtn4gRKY"
      },
      "execution_count": 4,
      "outputs": []
    },
    {
      "cell_type": "code",
      "source": [
        "from sklearn.datasets import fetch_california_housing \n",
        "from sklearn.model_selection import train_test_split\n",
        "from sklearn.preprocessing import StandardScaler\n",
        "\n",
        "housing=fetch_california_housing()"
      ],
      "metadata": {
        "id": "cXyt3nnmgX1y"
      },
      "execution_count": 7,
      "outputs": []
    },
    {
      "cell_type": "code",
      "source": [
        "print(housing)"
      ],
      "metadata": {
        "colab": {
          "base_uri": "https://localhost:8080/"
        },
        "id": "ByVnebjLg-KP",
        "outputId": "2ee2ae2b-66b1-4071-a7e2-d9898aa282c2"
      },
      "execution_count": 8,
      "outputs": [
        {
          "output_type": "stream",
          "name": "stdout",
          "text": [
            "{'data': array([[   8.3252    ,   41.        ,    6.98412698, ...,    2.55555556,\n",
            "          37.88      , -122.23      ],\n",
            "       [   8.3014    ,   21.        ,    6.23813708, ...,    2.10984183,\n",
            "          37.86      , -122.22      ],\n",
            "       [   7.2574    ,   52.        ,    8.28813559, ...,    2.80225989,\n",
            "          37.85      , -122.24      ],\n",
            "       ...,\n",
            "       [   1.7       ,   17.        ,    5.20554273, ...,    2.3256351 ,\n",
            "          39.43      , -121.22      ],\n",
            "       [   1.8672    ,   18.        ,    5.32951289, ...,    2.12320917,\n",
            "          39.43      , -121.32      ],\n",
            "       [   2.3886    ,   16.        ,    5.25471698, ...,    2.61698113,\n",
            "          39.37      , -121.24      ]]), 'target': array([4.526, 3.585, 3.521, ..., 0.923, 0.847, 0.894]), 'frame': None, 'target_names': ['MedHouseVal'], 'feature_names': ['MedInc', 'HouseAge', 'AveRooms', 'AveBedrms', 'Population', 'AveOccup', 'Latitude', 'Longitude'], 'DESCR': '.. _california_housing_dataset:\\n\\nCalifornia Housing dataset\\n--------------------------\\n\\n**Data Set Characteristics:**\\n\\n    :Number of Instances: 20640\\n\\n    :Number of Attributes: 8 numeric, predictive attributes and the target\\n\\n    :Attribute Information:\\n        - MedInc        median income in block group\\n        - HouseAge      median house age in block group\\n        - AveRooms      average number of rooms per household\\n        - AveBedrms     average number of bedrooms per household\\n        - Population    block group population\\n        - AveOccup      average number of household members\\n        - Latitude      block group latitude\\n        - Longitude     block group longitude\\n\\n    :Missing Attribute Values: None\\n\\nThis dataset was obtained from the StatLib repository.\\nhttps://www.dcc.fc.up.pt/~ltorgo/Regression/cal_housing.html\\n\\nThe target variable is the median house value for California districts,\\nexpressed in hundreds of thousands of dollars ($100,000).\\n\\nThis dataset was derived from the 1990 U.S. census, using one row per census\\nblock group. A block group is the smallest geographical unit for which the U.S.\\nCensus Bureau publishes sample data (a block group typically has a population\\nof 600 to 3,000 people).\\n\\nAn household is a group of people residing within a home. Since the average\\nnumber of rooms and bedrooms in this dataset are provided per household, these\\ncolumns may take surpinsingly large values for block groups with few households\\nand many empty houses, such as vacation resorts.\\n\\nIt can be downloaded/loaded using the\\n:func:`sklearn.datasets.fetch_california_housing` function.\\n\\n.. topic:: References\\n\\n    - Pace, R. Kelley and Ronald Barry, Sparse Spatial Autoregressions,\\n      Statistics and Probability Letters, 33 (1997) 291-297\\n'}\n"
          ]
        }
      ]
    },
    {
      "cell_type": "code",
      "source": [
        "X_train_full,X_test,y_train_full,y_test=train_test_split(housing.data,housing.target)"
      ],
      "metadata": {
        "id": "9SVYIkzLhj-x"
      },
      "execution_count": 11,
      "outputs": []
    },
    {
      "cell_type": "code",
      "source": [
        "X_train,X_valid,y_train,y_valid=train_test_split(X_train_full,y_train_full)"
      ],
      "metadata": {
        "id": "8VhglwEkhm0c"
      },
      "execution_count": 12,
      "outputs": []
    },
    {
      "cell_type": "code",
      "source": [
        "X_train_full"
      ],
      "metadata": {
        "colab": {
          "base_uri": "https://localhost:8080/"
        },
        "id": "o-A83EGAiV9C",
        "outputId": "c3ff1350-e47b-4e10-ec9b-fd8f7f599b9f"
      },
      "execution_count": 13,
      "outputs": [
        {
          "output_type": "execute_result",
          "data": {
            "text/plain": [
              "array([[   3.7798    ,   27.        ,    4.76962457, ...,    2.90443686,\n",
              "          34.22      , -118.57      ],\n",
              "       [   3.7802    ,   10.        ,    5.0874036 , ...,    2.8714653 ,\n",
              "          34.08      , -117.7       ],\n",
              "       [   3.9375    ,   35.        ,    5.46524064, ...,    3.35828877,\n",
              "          34.06      , -117.93      ],\n",
              "       ...,\n",
              "       [   2.5262    ,   21.        ,    3.02162162, ...,    3.98738739,\n",
              "          33.78      , -118.27      ],\n",
              "       [   2.0529    ,   43.        ,    3.84587814, ...,    2.3655914 ,\n",
              "          32.72      , -117.14      ],\n",
              "       [   3.1875    ,   18.        ,    5.04823748, ...,    3.09276438,\n",
              "          38.62      , -122.87      ]])"
            ]
          },
          "metadata": {},
          "execution_count": 13
        }
      ]
    },
    {
      "cell_type": "code",
      "source": [
        "X_test"
      ],
      "metadata": {
        "colab": {
          "base_uri": "https://localhost:8080/"
        },
        "id": "SpBWmTB_iYbU",
        "outputId": "5955e2d0-1222-4c89-aa1d-4f8d2ea436da"
      },
      "execution_count": 14,
      "outputs": [
        {
          "output_type": "execute_result",
          "data": {
            "text/plain": [
              "array([[   8.4438    ,   16.        ,    7.51219512, ...,    3.31358885,\n",
              "          34.22      , -118.64      ],\n",
              "       [   3.5074    ,   37.        ,    5.12413793, ...,    3.36896552,\n",
              "          36.59      , -119.4       ],\n",
              "       [   3.6488    ,   21.        ,    4.15364917, ...,    1.82202305,\n",
              "          34.02      , -118.42      ],\n",
              "       ...,\n",
              "       [   3.2143    ,   25.        ,    4.98929336, ...,    2.60171306,\n",
              "          36.82      , -119.79      ],\n",
              "       [   3.3824    ,   48.        ,    5.02754821, ...,    2.00550964,\n",
              "          34.05      , -118.36      ],\n",
              "       [   2.1424    ,   30.        ,    4.92783505, ...,    2.74484536,\n",
              "          37.75      , -121.43      ]])"
            ]
          },
          "metadata": {},
          "execution_count": 14
        }
      ]
    },
    {
      "cell_type": "code",
      "source": [
        "X_train"
      ],
      "metadata": {
        "colab": {
          "base_uri": "https://localhost:8080/"
        },
        "id": "Hnq5KXBbibMS",
        "outputId": "baa6d955-2ae4-4b16-8f6a-eaff40cc889f"
      },
      "execution_count": 15,
      "outputs": [
        {
          "output_type": "execute_result",
          "data": {
            "text/plain": [
              "array([[   2.5       ,   43.        ,    3.46710526, ...,    2.41447368,\n",
              "          37.96      , -121.26      ],\n",
              "       [   3.2833    ,   38.        ,    5.56016598, ...,    3.17842324,\n",
              "          37.95      , -122.34      ],\n",
              "       [   3.4028    ,   52.        ,    4.42918455, ...,    3.70386266,\n",
              "          37.76      , -122.41      ],\n",
              "       ...,\n",
              "       [   3.0833    ,   44.        ,    5.11670481, ...,    2.37070938,\n",
              "          35.29      , -120.67      ],\n",
              "       [   3.2708    ,   33.        ,    4.43190661, ...,    2.85603113,\n",
              "          34.        , -118.42      ],\n",
              "       [   5.5469    ,   22.        ,    4.7967033 , ...,    2.43406593,\n",
              "          36.54      , -121.82      ]])"
            ]
          },
          "metadata": {},
          "execution_count": 15
        }
      ]
    },
    {
      "cell_type": "code",
      "source": [
        "y_valid"
      ],
      "metadata": {
        "colab": {
          "base_uri": "https://localhost:8080/"
        },
        "id": "Ql6VgrKzieCv",
        "outputId": "810dfa5b-da95-4555-854b-d1b03dc8f859"
      },
      "execution_count": 16,
      "outputs": [
        {
          "output_type": "execute_result",
          "data": {
            "text/plain": [
              "array([1.   , 2.608, 1.49 , ..., 2.086, 0.483, 2.136])"
            ]
          },
          "metadata": {},
          "execution_count": 16
        }
      ]
    },
    {
      "cell_type": "code",
      "source": [
        "y_test"
      ],
      "metadata": {
        "colab": {
          "base_uri": "https://localhost:8080/"
        },
        "id": "o4xS6_eaifra",
        "outputId": "3648b176-5edb-4c28-cc9d-3616751a93d2"
      },
      "execution_count": 17,
      "outputs": [
        {
          "output_type": "execute_result",
          "data": {
            "text/plain": [
              "array([3.9  , 0.938, 3.408, ..., 0.93 , 3.226, 1.25 ])"
            ]
          },
          "metadata": {},
          "execution_count": 17
        }
      ]
    },
    {
      "cell_type": "code",
      "source": [
        "scaler=StandardScaler()\n",
        "X_train=scaler.fit_transform(X_train)\n",
        "X_valid=scaler.transform(X_valid)\n",
        "X_test=scaler.transform(X_test)"
      ],
      "metadata": {
        "id": "DqMg79Z1ihvl"
      },
      "execution_count": 21,
      "outputs": []
    },
    {
      "cell_type": "code",
      "source": [
        "X_train"
      ],
      "metadata": {
        "colab": {
          "base_uri": "https://localhost:8080/"
        },
        "id": "V7a5zZ1VjIUx",
        "outputId": "3735b3da-fa01-4f09-bd76-f415cae0cb26"
      },
      "execution_count": 22,
      "outputs": [
        {
          "output_type": "execute_result",
          "data": {
            "text/plain": [
              "array([[-0.72071101,  1.13156167, -0.74111826, ..., -0.05539912,\n",
              "         1.08696356, -0.845468  ],\n",
              "       [-0.30376003,  0.73438204,  0.05099434, ...,  0.00331679,\n",
              "         1.08227857, -1.38601834],\n",
              "       [-0.24015012,  1.84648499, -0.37702222, ...,  0.04370121,\n",
              "         0.9932637 , -1.42105401],\n",
              "       ...,\n",
              "       [-0.41022013,  1.21099759, -0.11683222, ..., -0.05876277,\n",
              "        -0.16392956, -0.55016736],\n",
              "       [-0.31041379,  0.33720242, -0.37599206, ..., -0.02146174,\n",
              "        -0.76829365,  0.57597917],\n",
              "       [ 0.90115536, -0.53659275, -0.23793584, ..., -0.05389329,\n",
              "         0.42169456, -1.12575336]])"
            ]
          },
          "metadata": {},
          "execution_count": 22
        }
      ]
    },
    {
      "cell_type": "code",
      "source": [
        "X_valid"
      ],
      "metadata": {
        "colab": {
          "base_uri": "https://localhost:8080/"
        },
        "id": "c5Ltlgi_jXZj",
        "outputId": "0bb209a3-ce6d-4ae8-dba3-8655290d4ff4"
      },
      "execution_count": 23,
      "outputs": [
        {
          "output_type": "execute_result",
          "data": {
            "text/plain": [
              "array([[   2.2604    ,   43.        ,    3.67148014, ...,    3.01805054,\n",
              "          37.77      , -122.21      ],\n",
              "       [   6.0722    ,    4.        ,    5.85777778, ...,    2.99111111,\n",
              "          33.66      , -117.59      ],\n",
              "       [   4.4125    ,   12.        ,    6.86440678, ...,    3.3874092 ,\n",
              "          35.41      , -119.19      ],\n",
              "       ...,\n",
              "       [   3.2622    ,   33.        ,    4.82405567, ...,    2.83797217,\n",
              "          34.02      , -118.09      ],\n",
              "       [   1.4934    ,   26.        ,    5.15730337, ...,    2.85018727,\n",
              "          39.08      , -121.56      ],\n",
              "       [   4.8516    ,   34.        ,    5.34343434, ...,    2.45454545,\n",
              "          33.86      , -118.12      ]])"
            ]
          },
          "metadata": {},
          "execution_count": 23
        }
      ]
    },
    {
      "cell_type": "code",
      "source": [
        "from tensorflow import keras\n",
        "model=keras.models.Sequential([\n",
        "                               keras.layers.Dense(30,activation=\"relu\",input_shape=X_train.shape[1:]),\n",
        "                               keras.layers.Dense(1)\n",
        "\n",
        "])"
      ],
      "metadata": {
        "id": "wPeKft8ujZig"
      },
      "execution_count": 26,
      "outputs": []
    },
    {
      "cell_type": "code",
      "source": [
        "model.compile(loss=\"sparse_categorical_crossentropy\",\n",
        "              optimizer=\"sgd\",\n",
        "              metrics=[\"accuracy\"])\n"
      ],
      "metadata": {
        "id": "0Uj7ZYzoj7Ux"
      },
      "execution_count": 27,
      "outputs": []
    },
    {
      "cell_type": "code",
      "source": [
        "histroy=model.fit(X_train,y_train,epochs=30,\n",
        "                  validation_data=(X_valid,y_valid))"
      ],
      "metadata": {
        "colab": {
          "base_uri": "https://localhost:8080/"
        },
        "id": "THT2D_S7klti",
        "outputId": "06b6b39e-064e-40cc-9706-a2f0837a5d59"
      },
      "execution_count": 28,
      "outputs": [
        {
          "output_type": "stream",
          "name": "stdout",
          "text": [
            "Epoch 1/30\n",
            "363/363 [==============================] - 4s 5ms/step - loss: nan - accuracy: 8.6133e-05 - val_loss: nan - val_accuracy: 0.0000e+00\n",
            "Epoch 2/30\n",
            "363/363 [==============================] - 1s 4ms/step - loss: nan - accuracy: 0.0000e+00 - val_loss: nan - val_accuracy: 0.0000e+00\n",
            "Epoch 3/30\n",
            "363/363 [==============================] - 2s 4ms/step - loss: nan - accuracy: 0.0000e+00 - val_loss: nan - val_accuracy: 0.0000e+00\n",
            "Epoch 4/30\n",
            "363/363 [==============================] - 2s 4ms/step - loss: nan - accuracy: 0.0000e+00 - val_loss: nan - val_accuracy: 0.0000e+00\n",
            "Epoch 5/30\n",
            "363/363 [==============================] - 1s 4ms/step - loss: nan - accuracy: 0.0000e+00 - val_loss: nan - val_accuracy: 0.0000e+00\n",
            "Epoch 6/30\n",
            "363/363 [==============================] - 1s 4ms/step - loss: nan - accuracy: 0.0000e+00 - val_loss: nan - val_accuracy: 0.0000e+00\n",
            "Epoch 7/30\n",
            "363/363 [==============================] - 2s 4ms/step - loss: nan - accuracy: 0.0000e+00 - val_loss: nan - val_accuracy: 0.0000e+00\n",
            "Epoch 8/30\n",
            "363/363 [==============================] - 2s 4ms/step - loss: nan - accuracy: 0.0000e+00 - val_loss: nan - val_accuracy: 0.0000e+00\n",
            "Epoch 9/30\n",
            "363/363 [==============================] - 1s 4ms/step - loss: nan - accuracy: 0.0000e+00 - val_loss: nan - val_accuracy: 0.0000e+00\n",
            "Epoch 10/30\n",
            "363/363 [==============================] - 2s 4ms/step - loss: nan - accuracy: 0.0000e+00 - val_loss: nan - val_accuracy: 0.0000e+00\n",
            "Epoch 11/30\n",
            "363/363 [==============================] - 2s 4ms/step - loss: nan - accuracy: 0.0000e+00 - val_loss: nan - val_accuracy: 0.0000e+00\n",
            "Epoch 12/30\n",
            "363/363 [==============================] - 2s 4ms/step - loss: nan - accuracy: 0.0000e+00 - val_loss: nan - val_accuracy: 0.0000e+00\n",
            "Epoch 13/30\n",
            "363/363 [==============================] - 2s 4ms/step - loss: nan - accuracy: 0.0000e+00 - val_loss: nan - val_accuracy: 0.0000e+00\n",
            "Epoch 14/30\n",
            "363/363 [==============================] - 2s 4ms/step - loss: nan - accuracy: 0.0000e+00 - val_loss: nan - val_accuracy: 0.0000e+00\n",
            "Epoch 15/30\n",
            "363/363 [==============================] - 2s 4ms/step - loss: nan - accuracy: 0.0000e+00 - val_loss: nan - val_accuracy: 0.0000e+00\n",
            "Epoch 16/30\n",
            "363/363 [==============================] - 2s 4ms/step - loss: nan - accuracy: 0.0000e+00 - val_loss: nan - val_accuracy: 0.0000e+00\n",
            "Epoch 17/30\n",
            "363/363 [==============================] - 1s 4ms/step - loss: nan - accuracy: 0.0000e+00 - val_loss: nan - val_accuracy: 0.0000e+00\n",
            "Epoch 18/30\n",
            "363/363 [==============================] - 1s 4ms/step - loss: nan - accuracy: 0.0000e+00 - val_loss: nan - val_accuracy: 0.0000e+00\n",
            "Epoch 19/30\n",
            "363/363 [==============================] - 2s 4ms/step - loss: nan - accuracy: 0.0000e+00 - val_loss: nan - val_accuracy: 0.0000e+00\n",
            "Epoch 20/30\n",
            "363/363 [==============================] - 2s 4ms/step - loss: nan - accuracy: 0.0000e+00 - val_loss: nan - val_accuracy: 0.0000e+00\n",
            "Epoch 21/30\n",
            "363/363 [==============================] - 2s 4ms/step - loss: nan - accuracy: 0.0000e+00 - val_loss: nan - val_accuracy: 0.0000e+00\n",
            "Epoch 22/30\n",
            "363/363 [==============================] - 1s 4ms/step - loss: nan - accuracy: 0.0000e+00 - val_loss: nan - val_accuracy: 0.0000e+00\n",
            "Epoch 23/30\n",
            "363/363 [==============================] - 1s 4ms/step - loss: nan - accuracy: 0.0000e+00 - val_loss: nan - val_accuracy: 0.0000e+00\n",
            "Epoch 24/30\n",
            "363/363 [==============================] - 1s 4ms/step - loss: nan - accuracy: 0.0000e+00 - val_loss: nan - val_accuracy: 0.0000e+00\n",
            "Epoch 25/30\n",
            "363/363 [==============================] - 2s 4ms/step - loss: nan - accuracy: 0.0000e+00 - val_loss: nan - val_accuracy: 0.0000e+00\n",
            "Epoch 26/30\n",
            "363/363 [==============================] - 2s 4ms/step - loss: nan - accuracy: 0.0000e+00 - val_loss: nan - val_accuracy: 0.0000e+00\n",
            "Epoch 27/30\n",
            "363/363 [==============================] - 2s 4ms/step - loss: nan - accuracy: 0.0000e+00 - val_loss: nan - val_accuracy: 0.0000e+00\n",
            "Epoch 28/30\n",
            "363/363 [==============================] - 2s 4ms/step - loss: nan - accuracy: 0.0000e+00 - val_loss: nan - val_accuracy: 0.0000e+00\n",
            "Epoch 29/30\n",
            "363/363 [==============================] - 2s 4ms/step - loss: nan - accuracy: 0.0000e+00 - val_loss: nan - val_accuracy: 0.0000e+00\n",
            "Epoch 30/30\n",
            "363/363 [==============================] - 2s 4ms/step - loss: nan - accuracy: 0.0000e+00 - val_loss: nan - val_accuracy: 0.0000e+00\n"
          ]
        }
      ]
    },
    {
      "cell_type": "code",
      "source": [
        "mse_test=model.evaluate(X_test,y_test)"
      ],
      "metadata": {
        "colab": {
          "base_uri": "https://localhost:8080/"
        },
        "id": "ytoH8FEHk5fN",
        "outputId": "54344a8d-0c27-47d2-bba3-ad51d01977cf"
      },
      "execution_count": 29,
      "outputs": [
        {
          "output_type": "stream",
          "name": "stdout",
          "text": [
            "162/162 [==============================] - 0s 3ms/step - loss: nan - accuracy: 0.0000e+00\n"
          ]
        }
      ]
    },
    {
      "cell_type": "code",
      "source": [
        "X_new=X_test[:3]"
      ],
      "metadata": {
        "id": "6RhO0uj2lMnW"
      },
      "execution_count": 30,
      "outputs": []
    },
    {
      "cell_type": "code",
      "source": [
        "y_pred=model.predict(X_new)"
      ],
      "metadata": {
        "id": "3oHChdx1lQ5q"
      },
      "execution_count": 31,
      "outputs": []
    },
    {
      "cell_type": "code",
      "source": [
        "print(X_new)"
      ],
      "metadata": {
        "colab": {
          "base_uri": "https://localhost:8080/"
        },
        "id": "edIcGDExlVbd",
        "outputId": "1d55ec8d-8eec-4e71-e7d5-ea9e67b7edf7"
      },
      "execution_count": 32,
      "outputs": [
        {
          "output_type": "stream",
          "name": "stdout",
          "text": [
            "[[ 8.44380000e+00  1.60000000e+01  7.51219512e+00  1.00000000e+00\n",
            "   1.90200000e+03  3.31358885e+00  3.42200000e+01 -1.18640000e+02]\n",
            " [ 3.50740000e+00  3.70000000e+01  5.12413793e+00  1.02068966e+00\n",
            "   9.77000000e+02  3.36896552e+00  3.65900000e+01 -1.19400000e+02]\n",
            " [ 3.64880000e+00  2.10000000e+01  4.15364917e+00  1.04353393e+00\n",
            "   1.42300000e+03  1.82202305e+00  3.40200000e+01 -1.18420000e+02]]\n"
          ]
        }
      ]
    },
    {
      "cell_type": "code",
      "source": [
        "print(y_pred)"
      ],
      "metadata": {
        "colab": {
          "base_uri": "https://localhost:8080/"
        },
        "id": "wV-7whHFlYI2",
        "outputId": "709381de-882d-438d-fa10-4c714e08963b"
      },
      "execution_count": 33,
      "outputs": [
        {
          "output_type": "stream",
          "name": "stdout",
          "text": [
            "[[nan]\n",
            " [nan]\n",
            " [nan]]\n"
          ]
        }
      ]
    },
    {
      "cell_type": "code",
      "source": [
        ""
      ],
      "metadata": {
        "id": "OhDgniLQlatM"
      },
      "execution_count": null,
      "outputs": []
    }
  ]
}