{
  "nbformat": 4,
  "nbformat_minor": 0,
  "metadata": {
    "colab": {
      "name": "Assignment-2.ipynb",
      "provenance": [],
      "mount_file_id": "14wiVNWsr532-62Cae7l_D4UTuX6Mvm96",
      "authorship_tag": "ABX9TyMhpz6az7Si+htb0ByyfFa6",
      "include_colab_link": true
    },
    "kernelspec": {
      "name": "python3",
      "display_name": "Python 3"
    },
    "language_info": {
      "name": "python"
    }
  },
  "cells": [
    {
      "cell_type": "markdown",
      "metadata": {
        "id": "view-in-github",
        "colab_type": "text"
      },
      "source": [
        "<a href=\"https://colab.research.google.com/github/Praveenku32k/Python_40_works_day_to_day/blob/main/Assignment_2.ipynb\" target=\"_parent\"><img src=\"https://colab.research.google.com/assets/colab-badge.svg\" alt=\"Open In Colab\"/></a>"
      ]
    },
    {
      "cell_type": "code",
      "metadata": {
        "id": "zjVTH7vkviDq"
      },
      "source": [
        "ROOT=\"/content/drive/MyDrive/Python_Assignments/Assignment-2\""
      ],
      "execution_count": 1,
      "outputs": []
    },
    {
      "cell_type": "code",
      "metadata": {
        "id": "9EGDUQxvv42Y"
      },
      "source": [
        "import os\n",
        "os.chdir(ROOT)"
      ],
      "execution_count": 2,
      "outputs": []
    },
    {
      "cell_type": "code",
      "metadata": {
        "id": "XTinApDKv-LN"
      },
      "source": [
        "assert ROOT == os.getcwd()"
      ],
      "execution_count": 3,
      "outputs": []
    },
    {
      "cell_type": "code",
      "metadata": {
        "colab": {
          "base_uri": "https://localhost:8080/",
          "height": 35
        },
        "id": "TgURjztswA-3",
        "outputId": "706ef758-8dd1-4018-ce1c-09b9a1ea8fdf"
      },
      "source": [
        "os.getcwd()"
      ],
      "execution_count": 4,
      "outputs": [
        {
          "output_type": "execute_result",
          "data": {
            "application/vnd.google.colaboratory.intrinsic+json": {
              "type": "string"
            },
            "text/plain": [
              "'/content/drive/MyDrive/Python_Assignments/Assignment-2'"
            ]
          },
          "metadata": {},
          "execution_count": 4
        }
      ]
    },
    {
      "cell_type": "code",
      "metadata": {
        "id": "e03LjXzVwD_m"
      },
      "source": [
        "with open(\"test.txt\", \"w\") as f:\n",
        "  f.writelines(\"hello colab\")"
      ],
      "execution_count": 5,
      "outputs": []
    },
    {
      "cell_type": "markdown",
      "metadata": {
        "id": "_owPQ7cRwJZy"
      },
      "source": [
        "Assignment-2"
      ]
    },
    {
      "cell_type": "code",
      "metadata": {
        "colab": {
          "base_uri": "https://localhost:8080/",
          "height": 35
        },
        "id": "rhO58K9IwHY5",
        "outputId": "72dc79a3-60bf-4e96-af49-735f0dd3348f"
      },
      "source": [
        "\"\"\" Create the below pattern using nested for loop in Python\n",
        " *\n",
        "* *\n",
        "* * *\n",
        "* * * *\n",
        "* * * * *\n",
        "* * * *\n",
        "* * *\n",
        "* *\n",
        "*\n",
        "\"\"\""
      ],
      "execution_count": 6,
      "outputs": [
        {
          "output_type": "execute_result",
          "data": {
            "application/vnd.google.colaboratory.intrinsic+json": {
              "type": "string"
            },
            "text/plain": [
              "' Create the below pattern using nested for loop in Python\\n *\\n* *\\n* * *\\n* * * *\\n* * * * *\\n* * * *\\n* * *\\n* *\\n*\\n'"
            ]
          },
          "metadata": {},
          "execution_count": 6
        }
      ]
    },
    {
      "cell_type": "code",
      "metadata": {
        "colab": {
          "base_uri": "https://localhost:8080/"
        },
        "id": "cTfCtHfjwnrO",
        "outputId": "61a2c0dd-a998-41e5-8a3c-d28b8fa41ff2"
      },
      "source": [
        "num=int(input(\"enter a number :\"))\n",
        "for i in range(1,num+1):\n",
        "  print(\"\"*(num-i),end=\" \")\n",
        "  for j in range(1,i+1):\n",
        "    print(\"*\",end=\" \")\n",
        "  print()\n",
        "for p in range(1,num):\n",
        "  print(\"\"*p,end=\" \")\n",
        "  for q in range(1,num+1-p):\n",
        "    print(\"*\",end=\" \")\n",
        "  print()"
      ],
      "execution_count": 17,
      "outputs": [
        {
          "output_type": "stream",
          "name": "stdout",
          "text": [
            "enter a number :5\n",
            " * \n",
            " * * \n",
            " * * * \n",
            " * * * * \n",
            " * * * * * \n",
            " * * * * \n",
            " * * * \n",
            " * * \n",
            " * \n"
          ]
        }
      ]
    },
    {
      "cell_type": "markdown",
      "metadata": {
        "id": "9M0qh9GDiNLd"
      },
      "source": [
        "2.Write a Python program to reverse a word after accepting the input from the user.\n",
        "Input word: ineuron\n",
        "Output: norueni"
      ]
    },
    {
      "cell_type": "code",
      "metadata": {
        "colab": {
          "base_uri": "https://localhost:8080/",
          "height": 53
        },
        "id": "KJU1qGT8h-SP",
        "outputId": "8d6a025c-d31e-4996-8ba0-eff0829e3a38"
      },
      "source": [
        "Input=input(\"enter the string :\")\n",
        "Input[::-1]"
      ],
      "execution_count": 14,
      "outputs": [
        {
          "name": "stdout",
          "output_type": "stream",
          "text": [
            "enter the string :ineuron\n"
          ]
        },
        {
          "output_type": "execute_result",
          "data": {
            "application/vnd.google.colaboratory.intrinsic+json": {
              "type": "string"
            },
            "text/plain": [
              "'norueni'"
            ]
          },
          "metadata": {},
          "execution_count": 14
        }
      ]
    },
    {
      "cell_type": "code",
      "metadata": {
        "id": "3LjqbhQ5imgu"
      },
      "source": [
        ""
      ],
      "execution_count": null,
      "outputs": []
    }
  ]
}